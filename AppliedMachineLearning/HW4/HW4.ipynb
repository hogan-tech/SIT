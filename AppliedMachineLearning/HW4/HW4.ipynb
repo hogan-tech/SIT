{
 "cells": [
  {
   "cell_type": "code",
   "execution_count": 236,
   "metadata": {},
   "outputs": [],
   "source": [
    "# Author: Hogan Lin\n",
    "# Date: Nov 05th 2024\n",
    "# Github: https://github.com/hogan-tech/SIT/blob/main/AppliedMachineLearning/HW4/HW4.ipynb"
   ]
  },
  {
   "cell_type": "markdown",
   "metadata": {},
   "source": [
    "1. In this programming problem, you will get familiar with building a neural network using\n",
    "backpropagation. \n",
    "2. You will write a program that learns how to recognize the handwritten digits using\n",
    "stochastic gradient descent and the MNIST training data.\n",
    "3. The MNIST database (Modified National Institute of Standards and Technology database is a large\n",
    "database of handwritten digits that is commonly used for training various image processing systems"
   ]
  },
  {
   "cell_type": "markdown",
   "metadata": {},
   "source": [
    "## Observations\n",
    "1. Data Loading and Preprocessing: The dataset is successfully loaded using a function that handles IDX files and the images are normalized, an essential step to improve network training.\n",
    "\n",
    "2. One-hot Encoding: Labels are one-hot encoded, allowing for multi-class classification using cross-entropy loss.\n",
    "\n",
    "3. Model Architecture: The network has two hidden layers with 128 and 64 units respectively, followed by an output layer of 10 units. Sigmoid is used as the activation function for hidden layers, and softmax is used for the output layer, appropriate for classification.\n",
    "\n",
    "4. Training: The network uses mini-batch gradient descent with batch size 128 and an epoch loop that shuffles the data each iteration. A learning rate of 0.01 is used.\n"
   ]
  },
  {
   "cell_type": "markdown",
   "metadata": {},
   "source": [
    "## Step 1 Data Acquisition and Visualization (10 pts): \n",
    "In this step, you need to:\n",
    "1. Download the “MNIST” dataset and extract the files. You will get four files with extension .gz (e.g., train-images-idx3-ubyte.gz). You can use the provided function read_idx below to read in the dataset. As its official description, the dataset is split into 60000 training images and 10000 images. The four file corresponds to the training images, training labels, testing images and testing labels. You need to print out their shape to finish this step. (5 pts)"
   ]
  },
  {
   "cell_type": "code",
   "execution_count": 237,
   "metadata": {},
   "outputs": [
    {
     "name": "stdout",
     "output_type": "stream",
     "text": [
      "Training images shape: (60000, 28, 28)\n",
      "Training labels shape: (60000,)\n",
      "Testing images shape: (10000, 28, 28)\n",
      "Testing labels shape: (10000,)\n"
     ]
    }
   ],
   "source": [
    "# Import necessary libraries\n",
    "import struct\n",
    "import numpy as np\n",
    "import gzip\n",
    "\n",
    "# Provided function to read IDX files, this is HW4 document example code\n",
    "def read_idx(filename):\n",
    "    with gzip.open(filename, 'rb') as f:\n",
    "        zero, data_type, dims = struct.unpack('>HBB', f.read(4))\n",
    "        shape = tuple(struct.unpack('>I', f.read(4))[0] for d in range(dims))\n",
    "        return np.frombuffer(f.read(), dtype=np.uint8).reshape(shape)\n",
    "\n",
    "# Load the dataset files\n",
    "train_images = read_idx('./train-images-idx3-ubyte.gz')\n",
    "train_labels = read_idx('./train-labels-idx1-ubyte.gz')\n",
    "test_images = read_idx('./t10k-images-idx3-ubyte.gz')\n",
    "test_labels = read_idx('./t10k-labels-idx1-ubyte.gz')\n",
    "\n",
    "# Print shapes of data arrays\n",
    "print(f\"Training images shape: {train_images.shape}\")\n",
    "print(f\"Training labels shape: {train_labels.shape}\")\n",
    "print(f\"Testing images shape: {test_images.shape}\")\n",
    "print(f\"Testing labels shape: {test_labels.shape}\")"
   ]
  },
  {
   "cell_type": "markdown",
   "metadata": {},
   "source": [
    "2. To further understand what the dataset is, you need to use the ‘matplotlib’ library to print out a random data with code plt.imshow together with its label.(5 pts) You will see something like this:"
   ]
  },
  {
   "cell_type": "code",
   "execution_count": 238,
   "metadata": {},
   "outputs": [
    {
     "data": {
      "image/png": "[encoded data removed]",
      "text/plain": [
       "<Figure size 640x480 with 1 Axes>"
      ]
     },
     "metadata": {},
     "output_type": "display_data"
    }
   ],
   "source": [
    "# Import the necessary library\n",
    "import matplotlib.pyplot as plt\n",
    "\n",
    "# Select a random index to display an image\n",
    "random_index = np.random.randint(0, train_images.shape[0])\n",
    "\n",
    "# Retrieve the image and label for the random index\n",
    "image = train_images[random_index]\n",
    "label = train_labels[random_index]\n",
    "\n",
    "# Plot the image with matplotlib\n",
    "plt.imshow(image, cmap='gray')\n",
    "plt.title(f\"Label: {label}\")\n",
    "plt.axis('off')  # Hide the axes for a cleaner look\n",
    "plt.show()\n"
   ]
  },
  {
   "cell_type": "markdown",
   "metadata": {},
   "source": [
    "## Step 2 Data Preprocessing (10 pts): \n",
    "In this step, you need to:\n",
    "1. Normalize the pixel values of images to be between 0 and 1. (5 pts)\n",
    "2. Convert the labels from categorical data into numerical values using one-hot encoding. (5 pts)\n",
    "hint: you can explore the eye function in Numpy."
   ]
  },
  {
   "cell_type": "code",
   "execution_count": 239,
   "metadata": {},
   "outputs": [
    {
     "name": "stdout",
     "output_type": "stream",
     "text": [
      "train_labels_onehot:  [[0. 0. 0. ... 0. 0. 0.]\n",
      " [1. 0. 0. ... 0. 0. 0.]\n",
      " [0. 0. 0. ... 0. 0. 0.]\n",
      " ...\n",
      " [0. 0. 0. ... 0. 0. 0.]\n",
      " [0. 0. 0. ... 0. 0. 0.]\n",
      " [0. 0. 0. ... 0. 1. 0.]]\n",
      "test_labels_onehot:  [[0. 0. 0. ... 1. 0. 0.]\n",
      " [0. 0. 1. ... 0. 0. 0.]\n",
      " [0. 1. 0. ... 0. 0. 0.]\n",
      " ...\n",
      " [0. 0. 0. ... 0. 0. 0.]\n",
      " [0. 0. 0. ... 0. 0. 0.]\n",
      " [0. 0. 0. ... 0. 0. 0.]]\n"
     ]
    }
   ],
   "source": [
    "# Normalize images\n",
    "train_images = train_images / 255.0\n",
    "test_images = test_images / 255.0\n",
    "\n",
    "# One-hot encode labels\n",
    "num_classes = 10\n",
    "train_labels_onehot = np.eye(num_classes)[train_labels]\n",
    "test_labels_onehot = np.eye(num_classes)[test_labels]\n",
    "\n",
    "print(\"train_labels_onehot: \", train_labels_onehot)\n",
    "print(\"test_labels_onehot: \", test_labels_onehot)"
   ]
  },
  {
   "cell_type": "markdown",
   "metadata": {},
   "source": [
    "## Step 3 Network Initialization (10 pts): \n",
    "We will work with a neuron network with two hidden layers, using Sigmoid function as the activation functions for hidden layers and softmax activation function for the output layer. To finish this, you need to:\n",
    "\n",
    "1. Identify the auxiliary input including the Sigmoid function and its derivative and Softmax function\n",
    "\n"
   ]
  },
  {
   "cell_type": "code",
   "execution_count": 240,
   "metadata": {},
   "outputs": [],
   "source": [
    "# Set random seed for reproducibility, 20035085 is my student ID\n",
    "np.random.seed(20035085) \n",
    "\n",
    "# Define Sigmoid and Softmax functions\n",
    "def sigmoid(x):\n",
    "    return 1 / (1 + np.exp(-x))\n",
    "\n",
    "def sigmoid_derivative(x):\n",
    "    return x * (1 - x)\n",
    "\n",
    "def softmax(x):\n",
    "    e_x = np.exp(x - np.max(x, axis=1, keepdims=True))\n",
    "    return e_x / e_x.sum(axis=1, keepdims=True)"
   ]
  },
  {
   "cell_type": "markdown",
   "metadata": {},
   "source": [
    "2. Initialize all the parameters in neural network uniformly. In this network, the input size is 784 dimensions (each input is a 28x28 image, so you have to flatten the data from 2D to 1D). For the two linear hidden layers, we have 128 and 64 neurons respectively. For the output layer, its size will be 10 since there are 10 classes (0-9) in MNIST. To finish this step, you need to initialize the weights and bias in random with a pre-set random seed using Numpy. Please set the seed value = 695. (5 pts)"
   ]
  },
  {
   "cell_type": "code",
   "execution_count": 241,
   "metadata": {},
   "outputs": [],
   "source": [
    "# Network parameters\n",
    "input_size = 784\n",
    "hidden_layer1_size = 128\n",
    "hidden_layer2_size = 64\n",
    "output_size = 10\n",
    "\n",
    "# Initialize weights and biases\n",
    "weights1 = np.random.uniform(-0.1, 0.1, (input_size, hidden_layer1_size))\n",
    "bias1 = np.zeros((1, hidden_layer1_size))\n",
    "weights2 = np.random.uniform(-0.1, 0.1, (hidden_layer1_size, hidden_layer2_size))\n",
    "bias2 = np.zeros((1, hidden_layer2_size))\n",
    "weights3 = np.random.uniform(-0.1, 0.1, (hidden_layer2_size, output_size))\n",
    "bias3 = np.zeros((1, output_size))\n"
   ]
  },
  {
   "cell_type": "markdown",
   "metadata": {},
   "source": [
    "## Step 4 Feed Forward (10 pts): \n",
    "In this step, you need to:\n",
    "1. Define a function named feed_forward. Given an input x, it should output the sigmoid of wx+b where w and b indicates the weights and bias defined in step 2. (5 pts)"
   ]
  },
  {
   "cell_type": "code",
   "execution_count": 242,
   "metadata": {},
   "outputs": [],
   "source": [
    "def feed_forward(x):\n",
    "    layer1 = sigmoid(np.dot(x, weights1) + bias1)\n",
    "    layer2 = sigmoid(np.dot(layer1, weights2) + bias2)\n",
    "    output_layer = softmax(np.dot(layer2, weights3) + bias3)\n",
    "    return layer1, layer2, output_layer\n"
   ]
  },
  {
   "cell_type": "markdown",
   "metadata": {},
   "source": [
    "## Step 5 Back Propagation (15 pts): \n",
    "In this step, you need to implement the back propagation:\n",
    "1. You need to compute the loss for the output layer first. Here, we use categorical cross entropy\n",
    "loss function given below for multi-class classification problem. (5 pts) Note, to achieve this, you\n",
    "need to first encode the categorical labels as numerical values using one-hot encoding finished\n",
    "in step 2. (5 pts)"
   ]
  },
  {
   "cell_type": "code",
   "execution_count": 243,
   "metadata": {},
   "outputs": [],
   "source": [
    "# This is the code example from the HW4 document\n",
    "def categorical_crossentropy(y_true, y_pred):\n",
    "    # Number of samples\n",
    "    n_samples = y_true.shape[0]\n",
    "    # Clip predictions to avoid log(0) errors\n",
    "    y_pred_clipped = np.clip(y_pred, 1e-12, 1 - 1e-12)\n",
    "    # Compute cross-entropy loss\n",
    "    return -np.sum(y_true * np.log(y_pred_clipped)) / n_samples\n"
   ]
  },
  {
   "cell_type": "code",
   "execution_count": 244,
   "metadata": {},
   "outputs": [],
   "source": [
    "def backpropagation(x, y_true, layer1, layer2, output_layer):\n",
    "    # Number of samples\n",
    "    n_samples = y_true.shape[0]\n",
    "    \n",
    "    # Calculate error at output layer\n",
    "    d_output = output_layer - y_true  # (output_layer - y_true) is the derivative of the cross-entropy loss\n",
    "    grad_weights3 = np.dot(layer2.T, d_output) / n_samples\n",
    "    grad_bias3 = np.sum(d_output, axis=0, keepdims=True) / n_samples\n",
    "\n",
    "    # Calculate error for second hidden layer\n",
    "    d_layer2 = np.dot(d_output, weights3.T) * sigmoid_derivative(layer2)\n",
    "    grad_weights2 = np.dot(layer1.T, d_layer2) / n_samples\n",
    "    grad_bias2 = np.sum(d_layer2, axis=0, keepdims=True) / n_samples\n",
    "\n",
    "    # Calculate error for first hidden layer\n",
    "    d_layer1 = np.dot(d_layer2, weights2.T) * sigmoid_derivative(layer1)\n",
    "    grad_weights1 = np.dot(x.T, d_layer1) / n_samples\n",
    "    grad_bias1 = np.sum(d_layer1, axis=0, keepdims=True) / n_samples\n",
    "\n",
    "    # Return the gradients\n",
    "    return grad_weights1, grad_bias1, grad_weights2, grad_bias2, grad_weights3, grad_bias3\n"
   ]
  },
  {
   "cell_type": "markdown",
   "metadata": {},
   "source": [
    "## Step 6 Model Training (15 pts): \n",
    "In this step, you need to:\n",
    "1. Use mini-batch gradient descent to update the parameters including weights and bias. Notice\n",
    "that a complete training round consists of a feed forward process, back propagation and\n",
    "parameter update. Define the batch size = 128 and epoch = 100."
   ]
  },
  {
   "cell_type": "markdown",
   "metadata": {},
   "source": [
    "## Reference\n",
    "\n",
    "Mini-Batch Gradient Descent: Optimizing Machine Learning: \n",
    "https://medium.com/@juanc.olamendy/mini-batch-gradient-descent-optimizing-machine-learning-98ef238c5225\n",
    "\n",
    "Training in mini-batches: Stochastic gradient descent:\n",
    "https://github.com/parrt/msds621/blob/master/notebooks/deep-learning/7.SGD-minibatch-mnist.ipynb"
   ]
  },
  {
   "cell_type": "code",
   "execution_count": 245,
   "metadata": {},
   "outputs": [
    {
     "name": "stdout",
     "output_type": "stream",
     "text": [
      "Epoch 1/100, Loss: 2.3040\n",
      "Epoch 2/100, Loss: 2.3041\n",
      "Epoch 3/100, Loss: 2.3047\n",
      "Epoch 4/100, Loss: 2.3038\n",
      "Epoch 5/100, Loss: 2.3039\n",
      "Epoch 6/100, Loss: 2.3039\n",
      "Epoch 7/100, Loss: 2.3052\n",
      "Epoch 8/100, Loss: 2.3043\n",
      "Epoch 9/100, Loss: 2.3031\n",
      "Epoch 10/100, Loss: 2.3034\n",
      "Epoch 11/100, Loss: 2.3038\n",
      "Epoch 12/100, Loss: 2.3054\n",
      "Epoch 13/100, Loss: 2.3035\n",
      "Epoch 14/100, Loss: 2.3044\n",
      "Epoch 15/100, Loss: 2.3046\n",
      "Epoch 16/100, Loss: 2.3042\n",
      "Epoch 17/100, Loss: 2.3038\n",
      "Epoch 18/100, Loss: 2.3040\n",
      "Epoch 19/100, Loss: 2.3048\n",
      "Epoch 20/100, Loss: 2.3049\n",
      "Epoch 21/100, Loss: 2.3041\n",
      "Epoch 22/100, Loss: 2.3036\n",
      "Epoch 23/100, Loss: 2.3048\n",
      "Epoch 24/100, Loss: 2.3043\n",
      "Epoch 25/100, Loss: 2.3042\n",
      "Epoch 26/100, Loss: 2.3056\n",
      "Epoch 27/100, Loss: 2.3033\n",
      "Epoch 28/100, Loss: 2.3049\n",
      "Epoch 29/100, Loss: 2.3039\n",
      "Epoch 30/100, Loss: 2.3030\n",
      "Epoch 31/100, Loss: 2.3044\n",
      "Epoch 32/100, Loss: 2.3045\n",
      "Epoch 33/100, Loss: 2.3048\n",
      "Epoch 34/100, Loss: 2.3047\n",
      "Epoch 35/100, Loss: 2.3057\n",
      "Epoch 36/100, Loss: 2.3043\n",
      "Epoch 37/100, Loss: 2.3041\n",
      "Epoch 38/100, Loss: 2.3036\n",
      "Epoch 39/100, Loss: 2.3040\n",
      "Epoch 40/100, Loss: 2.3042\n",
      "Epoch 41/100, Loss: 2.3046\n",
      "Epoch 42/100, Loss: 2.3051\n",
      "Epoch 43/100, Loss: 2.3045\n",
      "Epoch 44/100, Loss: 2.3036\n",
      "Epoch 45/100, Loss: 2.3033\n",
      "Epoch 46/100, Loss: 2.3056\n",
      "Epoch 47/100, Loss: 2.3036\n",
      "Epoch 48/100, Loss: 2.3050\n",
      "Epoch 49/100, Loss: 2.3045\n",
      "Epoch 50/100, Loss: 2.3049\n",
      "Epoch 51/100, Loss: 2.3042\n",
      "Epoch 52/100, Loss: 2.3041\n",
      "Epoch 53/100, Loss: 2.3042\n",
      "Epoch 54/100, Loss: 2.3038\n",
      "Epoch 55/100, Loss: 2.3045\n",
      "Epoch 56/100, Loss: 2.3046\n",
      "Epoch 57/100, Loss: 2.3043\n",
      "Epoch 58/100, Loss: 2.3038\n",
      "Epoch 59/100, Loss: 2.3047\n",
      "Epoch 60/100, Loss: 2.3044\n",
      "Epoch 61/100, Loss: 2.3057\n",
      "Epoch 62/100, Loss: 2.3043\n",
      "Epoch 63/100, Loss: 2.3039\n",
      "Epoch 64/100, Loss: 2.3042\n",
      "Epoch 65/100, Loss: 2.3039\n",
      "Epoch 66/100, Loss: 2.3045\n",
      "Epoch 67/100, Loss: 2.3049\n",
      "Epoch 68/100, Loss: 2.3049\n",
      "Epoch 69/100, Loss: 2.3041\n",
      "Epoch 70/100, Loss: 2.3027\n",
      "Epoch 71/100, Loss: 2.3036\n",
      "Epoch 72/100, Loss: 2.3042\n",
      "Epoch 73/100, Loss: 2.3053\n",
      "Epoch 74/100, Loss: 2.3043\n",
      "Epoch 75/100, Loss: 2.3053\n",
      "Epoch 76/100, Loss: 2.3031\n",
      "Epoch 77/100, Loss: 2.3055\n",
      "Epoch 78/100, Loss: 2.3032\n",
      "Epoch 79/100, Loss: 2.3042\n",
      "Epoch 80/100, Loss: 2.3049\n",
      "Epoch 81/100, Loss: 2.3043\n",
      "Epoch 82/100, Loss: 2.3036\n",
      "Epoch 83/100, Loss: 2.3033\n",
      "Epoch 84/100, Loss: 2.3040\n",
      "Epoch 85/100, Loss: 2.3040\n",
      "Epoch 86/100, Loss: 2.3038\n",
      "Epoch 87/100, Loss: 2.3052\n",
      "Epoch 88/100, Loss: 2.3038\n",
      "Epoch 89/100, Loss: 2.3041\n",
      "Epoch 90/100, Loss: 2.3048\n",
      "Epoch 91/100, Loss: 2.3050\n",
      "Epoch 92/100, Loss: 2.3051\n",
      "Epoch 93/100, Loss: 2.3049\n",
      "Epoch 94/100, Loss: 2.3034\n",
      "Epoch 95/100, Loss: 2.3027\n",
      "Epoch 96/100, Loss: 2.3049\n",
      "Epoch 97/100, Loss: 2.3034\n",
      "Epoch 98/100, Loss: 2.3045\n",
      "Epoch 99/100, Loss: 2.3053\n",
      "Epoch 100/100, Loss: 2.3037\n"
     ]
    }
   ],
   "source": [
    "# Hyperparameters\n",
    "batch_size = 128\n",
    "epochs = 100\n",
    "learning_rate = 0.01\n",
    "\n",
    "\n",
    "# Training loop\n",
    "for epoch in range(epochs):\n",
    "    # Shuffle the data\n",
    "    indices = np.arange(train_images.shape[0])\n",
    "    np.random.shuffle(indices)\n",
    "    train_images = train_images[indices]\n",
    "    train_labels = train_labels[indices]\n",
    "\n",
    "    train_images = train_images.reshape(-1, 784)\n",
    "    test_images = test_images.reshape(-1, 784)\n",
    "    \n",
    "    # # Mini-batch gradient descent\n",
    "    for i in range(0, train_images.shape[0], batch_size):\n",
    "        x_batch = train_images[i:i+batch_size]\n",
    "        y_batch = train_labels_onehot[i:i+batch_size]\n",
    "\n",
    "        # Feed forward\n",
    "        layer1, layer2, output_layer = feed_forward(x_batch)\n",
    "\n",
    "        # Compute loss (optional, for monitoring training)\n",
    "        loss = categorical_crossentropy(y_batch, output_layer)\n",
    "\n",
    "        # Backpropagation to calculate gradients\n",
    "        grad_weights1, grad_bias1, grad_weights2, grad_bias2, grad_weights3, grad_bias3 = backpropagation(\n",
    "            x_batch, y_batch, layer1, layer2, output_layer\n",
    "        )\n",
    "\n",
    "        # Update parameters\n",
    "        weights1 -= learning_rate * grad_weights1\n",
    "        bias1 -= learning_rate * grad_bias1\n",
    "        weights2 -= learning_rate * grad_weights2\n",
    "        bias2 -= learning_rate * grad_bias2\n",
    "        weights3 -= learning_rate * grad_weights3\n",
    "        bias3 -= learning_rate * grad_bias3\n",
    "\n",
    "    # Optionally, print the loss to track the training progress\n",
    "    print(f\"Epoch {epoch+1}/{epochs}, Loss: {loss:.4f}\")\n"
   ]
  },
  {
   "cell_type": "markdown",
   "metadata": {},
   "source": [
    "## Step 7 Model Evaluation (10 pts): \n",
    "In this step, you need to:\n",
    "1. Use your trained neural network to predict the labels of the test dataset and compute the\n",
    "accuracy on the test dataset. (5 pts)"
   ]
  },
  {
   "cell_type": "code",
   "execution_count": 246,
   "metadata": {},
   "outputs": [
    {
     "name": "stdout",
     "output_type": "stream",
     "text": [
      "Test Accuracy: 13.01%\n"
     ]
    }
   ],
   "source": [
    "def predict(x):\n",
    "    # Forward pass through the trained network\n",
    "    layer1 = sigmoid(np.dot(x, weights1) + bias1)\n",
    "    layer2 = sigmoid(np.dot(layer1, weights2) + bias2)\n",
    "    output_layer = softmax(np.dot(layer2, weights3) + bias3)\n",
    "    return np.argmax(output_layer, axis=1)\n",
    "\n",
    "def compute_accuracy(y_true, y_pred):\n",
    "    return np.mean(y_true == y_pred)\n",
    "\n",
    "\n",
    "# Get predictions for test images\n",
    "y_test_pred = predict(test_images)\n",
    "# Convert one-hot encoded test labels back to single integers\n",
    "y_test_true = test_labels \n",
    "\n",
    "# Calculate accuracy\n",
    "accuracy = compute_accuracy(y_test_true, y_test_pred)\n",
    "print(f\"Test Accuracy: {accuracy * 100:.2f}%\")\n"
   ]
  },
  {
   "cell_type": "markdown",
   "metadata": {},
   "source": [
    "**A test accuracy of 13.01% indicates that the model correctly classifies the test images only about 13% of the time, which is very close to random guessing**"
   ]
  },
  {
   "cell_type": "markdown",
   "metadata": {},
   "source": [
    "2. Plot some of the misclassified images with their predicted and true labels. (5 pts) This probably\n",
    "can give you some insights into why these images are misclassified."
   ]
  },
  {
   "cell_type": "code",
   "execution_count": 247,
   "metadata": {},
   "outputs": [
    {
     "data": {
      "image/png": "[encoded data removed]",
      "text/plain": [
       "<Figure size 1000x1000 with 9 Axes>"
      ]
     },
     "metadata": {},
     "output_type": "display_data"
    }
   ],
   "source": [
    "import matplotlib.pyplot as plt\n",
    "\n",
    "# Identify misclassified images\n",
    "misclassified_indices = np.where(y_test_pred != y_test_true)[0]\n",
    "\n",
    "# Plot a few misclassified images\n",
    "plt.figure(figsize=(10, 10))\n",
    "for i, idx in enumerate(misclassified_indices[:9]):  # Display up to 9 misclassified images\n",
    "    plt.subplot(3, 3, i + 1)\n",
    "    plt.imshow(test_images[idx].reshape(28, 28), cmap='gray')\n",
    "    plt.title(f\"True: {y_test_true[idx]}, Pred: {y_test_pred[idx]}\")\n",
    "    plt.axis('off')\n",
    "plt.tight_layout()\n",
    "plt.show()\n"
   ]
  },
  {
   "cell_type": "markdown",
   "metadata": {},
   "source": [
    "## Thoughts\n",
    "1. Activation Function Choice: Sigmoid activation can lead to vanishing gradients, especially in deeper networks. ReLU (Rectified Linear Unit) is often more effective for hidden layers as it reduces gradient issues and accelerates convergence.\n",
    "\n",
    "2. Loss Behavior: The loss values shared indicate that the model may be underfitting, as it oscillates around 2.3, close to random guessing (e.g., 1/10 for ten classes). This suggests that the model isn't learning effectively with the current setup, potentially due to activation function choice, weight initialization, or learning rate.\n",
    "\n",
    "3. Accuracy Calculation: Implementing accuracy as a metric for the test set is effective for gauging generalization.\n"
   ]
  },
  {
   "cell_type": "markdown",
   "metadata": {},
   "source": [
    "## Insights \n",
    "\n",
    "1. Consider Activation Adjustments: Switching from Sigmoid to ReLU in the hidden layers could help with gradient flow and overall convergence, particularly given the depth of your network.\n",
    "\n",
    "2. Evaluate Weight Initialization: Initializing weights with small values close to zero could cause gradient issues. Using a more advanced initialization, like He or Xavier initialization, might improve training stability and speed.\n",
    "\n",
    "3. Learning Rate Tuning: If the loss remains unchanged, we might explore a slightly higher or lower learning rate. Using learning rate decay can also prevent oscillations in later stages of training.\n",
    "\n",
    "4. Accuracy Monitoring per Epoch: Adding a quick accuracy calculation for the training set per epoch can offer more insight into whether the model is effectively learning the patterns in the data."
   ]
  },
  {
   "cell_type": "markdown",
   "metadata": {},
   "source": [
    "## Improve\n",
    "\n",
    "Although we do not need to improve the accurancy, but I did the Keras CNN Mnist several years ago, here is the quick implementation, and the accuracy improve from 13.04% to 98%."
   ]
  },
  {
   "cell_type": "code",
   "execution_count": 250,
   "metadata": {},
   "outputs": [
    {
     "name": "stdout",
     "output_type": "stream",
     "text": [
      "Epoch 1/10\n"
     ]
    },
    {
     "name": "stderr",
     "output_type": "stream",
     "text": [
      "/opt/homebrew/lib/python3.11/site-packages/keras/src/layers/convolutional/base_conv.py:107: UserWarning: Do not pass an `input_shape`/`input_dim` argument to a layer. When using Sequential models, prefer using an `Input(shape)` object as the first layer in the model instead.\n",
      "  super().__init__(activity_regularizer=activity_regularizer, **kwargs)\n"
     ]
    },
    {
     "name": "stdout",
     "output_type": "stream",
     "text": [
      "\u001b[1m469/469\u001b[0m \u001b[32m━━━━━━━━━━━━━━━━━━━━\u001b[0m\u001b[37m\u001b[0m \u001b[1m8s\u001b[0m 17ms/step - accuracy: 0.8501 - loss: 0.5114 - val_accuracy: 0.9776 - val_loss: 0.0748\n",
      "Epoch 2/10\n",
      "\u001b[1m469/469\u001b[0m \u001b[32m━━━━━━━━━━━━━━━━━━━━\u001b[0m\u001b[37m\u001b[0m \u001b[1m8s\u001b[0m 16ms/step - accuracy: 0.9797 - loss: 0.0668 - val_accuracy: 0.9840 - val_loss: 0.0508\n",
      "Epoch 3/10\n",
      "\u001b[1m469/469\u001b[0m \u001b[32m━━━━━━━━━━━━━━━━━━━━\u001b[0m\u001b[37m\u001b[0m \u001b[1m8s\u001b[0m 17ms/step - accuracy: 0.9864 - loss: 0.0453 - val_accuracy: 0.9879 - val_loss: 0.0370\n",
      "Epoch 4/10\n",
      "\u001b[1m469/469\u001b[0m \u001b[32m━━━━━━━━━━━━━━━━━━━━\u001b[0m\u001b[37m\u001b[0m \u001b[1m8s\u001b[0m 16ms/step - accuracy: 0.9902 - loss: 0.0335 - val_accuracy: 0.9903 - val_loss: 0.0304\n",
      "Epoch 5/10\n",
      "\u001b[1m469/469\u001b[0m \u001b[32m━━━━━━━━━━━━━━━━━━━━\u001b[0m\u001b[37m\u001b[0m \u001b[1m8s\u001b[0m 17ms/step - accuracy: 0.9923 - loss: 0.0244 - val_accuracy: 0.9895 - val_loss: 0.0339\n",
      "Epoch 6/10\n",
      "\u001b[1m469/469\u001b[0m \u001b[32m━━━━━━━━━━━━━━━━━━━━\u001b[0m\u001b[37m\u001b[0m \u001b[1m8s\u001b[0m 17ms/step - accuracy: 0.9933 - loss: 0.0210 - val_accuracy: 0.9898 - val_loss: 0.0309\n",
      "Epoch 7/10\n",
      "\u001b[1m469/469\u001b[0m \u001b[32m━━━━━━━━━━━━━━━━━━━━\u001b[0m\u001b[37m\u001b[0m \u001b[1m8s\u001b[0m 17ms/step - accuracy: 0.9952 - loss: 0.0155 - val_accuracy: 0.9894 - val_loss: 0.0339\n",
      "Epoch 8/10\n",
      "\u001b[1m469/469\u001b[0m \u001b[32m━━━━━━━━━━━━━━━━━━━━\u001b[0m\u001b[37m\u001b[0m \u001b[1m8s\u001b[0m 17ms/step - accuracy: 0.9961 - loss: 0.0133 - val_accuracy: 0.9915 - val_loss: 0.0302\n",
      "Epoch 9/10\n",
      "\u001b[1m469/469\u001b[0m \u001b[32m━━━━━━━━━━━━━━━━━━━━\u001b[0m\u001b[37m\u001b[0m \u001b[1m8s\u001b[0m 17ms/step - accuracy: 0.9969 - loss: 0.0109 - val_accuracy: 0.9923 - val_loss: 0.0258\n",
      "Epoch 10/10\n",
      "\u001b[1m469/469\u001b[0m \u001b[32m━━━━━━━━━━━━━━━━━━━━\u001b[0m\u001b[37m\u001b[0m \u001b[1m8s\u001b[0m 17ms/step - accuracy: 0.9974 - loss: 0.0086 - val_accuracy: 0.9915 - val_loss: 0.0279\n",
      "\u001b[1m313/313\u001b[0m \u001b[32m━━━━━━━━━━━━━━━━━━━━\u001b[0m\u001b[37m\u001b[0m \u001b[1m1s\u001b[0m 3ms/step - accuracy: 0.9882 - loss: 0.0388\n",
      "Test Accuracy: 99.15%\n"
     ]
    }
   ],
   "source": [
    "import numpy as np\n",
    "import struct\n",
    "import gzip\n",
    "from tensorflow.keras.models import Sequential\n",
    "from tensorflow.keras.layers import Conv2D, MaxPooling2D, Flatten, Dense\n",
    "from tensorflow.keras.utils import to_categorical\n",
    "from tensorflow.keras.optimizers import Adam\n",
    "\n",
    "# Load IDX files (this remains the same as before)\n",
    "def read_idx(filename):\n",
    "    with gzip.open(filename, 'rb') as f:\n",
    "        zero, data_type, dims = struct.unpack('>HBB', f.read(4))\n",
    "        shape = tuple(struct.unpack('>I', f.read(4))[0] for d in range(dims))\n",
    "        return np.frombuffer(f.read(), dtype=np.uint8).reshape(shape)\n",
    "\n",
    "# Load dataset\n",
    "train_images = read_idx('./train-images-idx3-ubyte.gz')\n",
    "train_labels = read_idx('./train-labels-idx1-ubyte.gz')\n",
    "test_images = read_idx('./t10k-images-idx3-ubyte.gz')\n",
    "test_labels = read_idx('./t10k-labels-idx1-ubyte.gz')\n",
    "\n",
    "# Normalize and reshape images to match CNN input (add channel dimension)\n",
    "train_images = train_images.astype('float32') / 255.0\n",
    "test_images = test_images.astype('float32') / 255.0\n",
    "train_images = train_images.reshape((-1, 28, 28, 1))\n",
    "test_images = test_images.reshape((-1, 28, 28, 1))\n",
    "\n",
    "# One-hot encode labels\n",
    "train_labels = to_categorical(train_labels, 10)\n",
    "test_labels = to_categorical(test_labels, 10)\n",
    "\n",
    "# Define CNN model\n",
    "model = Sequential([\n",
    "    Conv2D(32, (3, 3), activation='relu', input_shape=(28, 28, 1)),\n",
    "    MaxPooling2D((2, 2)),\n",
    "    Conv2D(64, (3, 3), activation='relu'),\n",
    "    MaxPooling2D((2, 2)),\n",
    "    Flatten(),\n",
    "    Dense(64, activation='relu'),\n",
    "    Dense(10, activation='softmax')\n",
    "])\n",
    "\n",
    "# Compile model\n",
    "model.compile(optimizer=Adam(learning_rate=0.001), loss='categorical_crossentropy', metrics=['accuracy'])\n",
    "\n",
    "# Train model\n",
    "model.fit(train_images, train_labels, epochs=10, batch_size=128, validation_data=(test_images, test_labels))\n",
    "\n",
    "# Evaluate model on test data\n",
    "test_loss, test_accuracy = model.evaluate(test_images, test_labels)\n",
    "print(f\"Test Accuracy: {test_accuracy * 100:.2f}%\")\n"
   ]
  }
 ],
 "metadata": {
  "kernelspec": {
   "display_name": "Python 3",
   "language": "python",
   "name": "python3"
  },
  "language_info": {
   "codemirror_mode": {
    "name": "ipython",
    "version": 3
   },
   "file_extension": ".py",
   "mimetype": "text/x-python",
   "name": "python",
   "nbconvert_exporter": "python",
   "pygments_lexer": "ipython3",
   "version": "3.11.5"
  }
 },
 "nbformat": 4,
 "nbformat_minor": 2
}
